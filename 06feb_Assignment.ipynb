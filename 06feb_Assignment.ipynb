{
 "cells": [
  {
   "cell_type": "markdown",
   "id": "25742cc5-92c3-4664-89bd-30153ad2a41e",
   "metadata": {},
   "source": [
    "## Q1. Create a function which will take a list as an argument and return the product of all the numbers\n",
    "after creating a flat list.\n",
    "Use the below-given list as an argument for your function.\n",
    "\n",
    "list1 = [1,2,3,4, [44,55,66, True], False, (34,56,78,89,34), {1,2,3,3,2,1}, {1:34, \"key2\": [55, 67, 78, 89], 4: (45,\n",
    "22, 61, 34)}, [56, 'data science'], 'Machine Learning']\n"
   ]
  },
  {
   "cell_type": "code",
   "execution_count": 15,
   "id": "d4b68fde-96cb-410f-a25d-c22ef03ecb6d",
   "metadata": {},
   "outputs": [],
   "source": [
    "list1 = [1,2,3,4, [44,55,66, True], False, (34,56,78,89,34), {1,2,3,3,2,1}, {1:34, \"key2\": [55, 67, 78, 89], 4: (45, 22, 61, 34)}, [56, 'data science'], 'Machine Learning']"
   ]
  },
  {
   "cell_type": "code",
   "execution_count": 100,
   "id": "48baaea2-091c-4910-8871-81bcf67ec99e",
   "metadata": {},
   "outputs": [],
   "source": [
    "def product_list(x):\n",
    "    \"\"\"product of all the numbers in the list\"\"\"\n",
    "    l1=[]\n",
    "    l2=[]\n",
    "    for i in list1:\n",
    "        if type(i)==list or type(i)==tuple:\n",
    "            for values_in_lt in i :\n",
    "                if type(values_in_lt)==int:\n",
    "                        l1.append(values_in_lt)\n",
    "        elif type(i)==set:\n",
    "            for k in list(i):\n",
    "                l1.append(k)\n",
    "        elif type(i)==dict:\n",
    "            for values in i.keys():\n",
    "                if type(values)==int:\n",
    "                    l1.append(values)\n",
    "            for values in i.values():\n",
    "                if type(values)==int:\n",
    "                    l1.append(values)\n",
    "                elif type(values)==tuple or type(values)==list:\n",
    "                    for j in values:\n",
    "                        l1.append(j)\n",
    "    \n",
    "    for num in l1:\n",
    "        product*=num\n",
    "                \n",
    "            \n",
    "    print(l1)"
   ]
  },
  {
   "cell_type": "code",
   "execution_count": 101,
   "id": "ba0f39f5-ec27-4daf-8e58-23ee7fd878ff",
   "metadata": {},
   "outputs": [
    {
     "name": "stdout",
     "output_type": "stream",
     "text": [
      "[44, 55, 66, 34, 56, 78, 89, 34, 1, 2, 3, 1, 4, 34, 55, 67, 78, 89, 45, 22, 61, 34, 56]\n"
     ]
    }
   ],
   "source": [
    "product_list(list1)"
   ]
  },
  {
   "cell_type": "code",
   "execution_count": 91,
   "id": "85d33543-0619-4862-a8e6-483ed01f1478",
   "metadata": {},
   "outputs": [
    {
     "name": "stdout",
     "output_type": "stream",
     "text": [
      "[1, 4, 34, 55, 67, 78, 89, 45, 22, 61, 34]\n"
     ]
    }
   ],
   "source": [
    "f= {1:34, \"key2\": [55, 67, 78, 89], 4: (45, 22, 61, 34)}\n",
    "l1=[]\n",
    "for i in f.keys():\n",
    "    if type(i)==int:\n",
    "        l1.append(i)\n",
    "for i in f.values():\n",
    "    if type(i)==int:\n",
    "        l1.append(i)\n",
    "    elif type(i)==tuple or type(i)==list:\n",
    "        for k in i:\n",
    "            l1.append(k)\n",
    "print(l1)"
   ]
  },
  {
   "cell_type": "code",
   "execution_count": 87,
   "id": "31708716-9867-4cd1-bd6c-56038c1f3d15",
   "metadata": {},
   "outputs": [
    {
     "name": "stdout",
     "output_type": "stream",
     "text": [
      "[1]\n",
      "[1, 2]\n",
      "[1, 2, 3]\n",
      "[1, 2, 3, 4]\n",
      "[1, 2, 3, 4]\n"
     ]
    }
   ],
   "source": [
    "r=(1,2,3,4,\"m\")\n",
    "l2=[]\n",
    "for i in r:\n",
    "    if type(i)==int:\n",
    "        l2.append(i)\n",
    "    print(l2)"
   ]
  },
  {
   "cell_type": "code",
   "execution_count": null,
   "id": "fd7a346e-64cd-4ca2-8780-fd73b251b7b2",
   "metadata": {},
   "outputs": [],
   "source": [
    "    "
   ]
  },
  {
   "cell_type": "markdown",
   "id": "643066df-d7e3-4f07-9988-d808d5fb4578",
   "metadata": {},
   "source": [
    "## Q2. Write a python program for encrypting a message sent to you by your friend. The logic of encryption should be such that, for a the output should be z. For b, the output should be y. For c, the output should be x respectively. Also, the whitespace should be replaced with a dollar sign. Keep the punctuation marks unchanged."
   ]
  },
  {
   "cell_type": "code",
   "execution_count": 70,
   "id": "4e60c511-981d-42ea-bfaf-f7ef521bd868",
   "metadata": {},
   "outputs": [],
   "source": [
    "def encrypt_message(message):\n",
    "    encrypted_message = ''\n",
    "    for char in message:\n",
    "        if char == ' ':\n",
    "            encrypted_message += '$' # Replace whitespace with dollar sign\n",
    "        elif char.isalpha():\n",
    "            encrypted_char = chr(219 - ord(char)) # Apply the encryption logic\n",
    "            encrypted_message += encrypted_char\n",
    "        else:\n",
    "            encrypted_message += char # Leave punctuation marks unchanged\n",
    "    return encrypted_message.lower()"
   ]
  },
  {
   "cell_type": "code",
   "execution_count": 71,
   "id": "4e9389de-f19c-4920-8e64-f29c7523f0f9",
   "metadata": {},
   "outputs": [
    {
     "data": {
      "text/plain": [
       "'\\x92$dzmg$gl$yv$z$wzgz$hxrvmgrhg'"
      ]
     },
     "execution_count": 71,
     "metadata": {},
     "output_type": "execute_result"
    }
   ],
   "source": [
    "encrypt_message(\"I want to be a data scientist\")"
   ]
  },
  {
   "cell_type": "code",
   "execution_count": null,
   "id": "a5826775-e754-40b9-84ae-21eb31bc73c8",
   "metadata": {},
   "outputs": [],
   "source": []
  }
 ],
 "metadata": {
  "kernelspec": {
   "display_name": "Python 3 (ipykernel)",
   "language": "python",
   "name": "python3"
  },
  "language_info": {
   "codemirror_mode": {
    "name": "ipython",
    "version": 3
   },
   "file_extension": ".py",
   "mimetype": "text/x-python",
   "name": "python",
   "nbconvert_exporter": "python",
   "pygments_lexer": "ipython3",
   "version": "3.10.6"
  }
 },
 "nbformat": 4,
 "nbformat_minor": 5
}
